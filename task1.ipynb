{
 "cells": [
  {
   "cell_type": "code",
   "execution_count": 1,
   "source": [
    "# import necessary libraries\r\n",
    "import pandas as pd\r\n",
    "import sidetable\r\n",
    "from Kleffy import kleffy_utility as ku\r\n",
    "\r\n",
    "# set pandas dataframe global options\r\n",
    "pd.set_option('display.max_columns', None)\r\n",
    "pd.set_option('display.max_rows', None)"
   ],
   "outputs": [],
   "metadata": {}
  },
  {
   "cell_type": "code",
   "execution_count": 2,
   "source": [
    "# initialise variables\r\n",
    "data_dir = 'data'\r\n",
    "doctors_fn = 'doctors.csv'\r\n",
    "hospitals_fn = 'hospital_visits.csv'\r\n",
    "patients_fn = 'patients.csv'"
   ],
   "outputs": [],
   "metadata": {}
  },
  {
   "cell_type": "code",
   "execution_count": 3,
   "source": [
    "# read/load csv files\r\n",
    "doctors = ku.read_file(filename=doctors_fn, path=data_dir)\r\n",
    "hospital_visits = ku.read_file(filename=hospitals_fn, path=data_dir)\r\n",
    "patients = ku.read_file(filename=patients_fn, path=data_dir)"
   ],
   "outputs": [],
   "metadata": {}
  },
  {
   "cell_type": "code",
   "execution_count": 4,
   "source": [
    "# merge hospital visits dataframe and paients dataframe into one - intermediate step\r\n",
    "hvp =  ku.merge_dataframe(df1=hospital_visits, df2=patients, left_on='patient_id', right_on='id')"
   ],
   "outputs": [],
   "metadata": {}
  },
  {
   "cell_type": "code",
   "execution_count": 5,
   "source": [
    "# merge hvp dataframe and doctors dataframe into one - final step\r\n",
    "sdf =  ku.merge_dataframe(df1=hvp, df2=doctors, left_on='doctor_id', right_on='id', \r\n",
    "                                right_suffix='doctor', \r\n",
    "                                drop_rcolumns=['created_at'])"
   ],
   "outputs": [],
   "metadata": {}
  },
  {
   "cell_type": "code",
   "execution_count": 6,
   "source": [
    "# Feature engineering: create year, month, and day_name columns from created_at\r\n",
    "single_df = ku.create_year_month_day_column(dataframe=sdf, date_column='created_at')"
   ],
   "outputs": [],
   "metadata": {}
  },
  {
   "cell_type": "code",
   "execution_count": 7,
   "source": [
    "# ku.save_as_csv(hvp, 'hospital_visits_patients', 'Output')"
   ],
   "outputs": [],
   "metadata": {}
  },
  {
   "cell_type": "code",
   "execution_count": 8,
   "source": [
    "# save final single dataframe\r\n",
    "ku.save_as_csv(df=single_df, filename='single_records', path='Output')"
   ],
   "outputs": [
    {
     "output_type": "stream",
     "name": "stdout",
     "text": [
      "single_records.csv saved successfully!\n"
     ]
    }
   ],
   "metadata": {}
  },
  {
   "cell_type": "markdown",
   "source": [
    "## Number of hospital visits per day"
   ],
   "metadata": {}
  },
  {
   "cell_type": "code",
   "execution_count": 9,
   "source": [
    "hvd = pd.DataFrame(single_df.groupby('created_at').size(), \r\n",
    "                    columns=['Number of visits per day'])\r\n",
    "hvd.index.name = 'date of visit'"
   ],
   "outputs": [],
   "metadata": {}
  },
  {
   "cell_type": "code",
   "execution_count": 10,
   "source": [
    "hvd.head(10)"
   ],
   "outputs": [
    {
     "output_type": "execute_result",
     "data": {
      "text/plain": [
       "               Number of visits per day\n",
       "date of visit                          \n",
       "2021-05-01                           13\n",
       "2021-05-02                           10\n",
       "2021-05-03                           28\n",
       "2021-05-04                           13\n",
       "2021-05-05                           31\n",
       "2021-05-06                           22\n",
       "2021-05-07                           25\n",
       "2021-05-08                           10\n",
       "2021-05-09                            8\n",
       "2021-05-10                           19"
      ],
      "text/html": [
       "<div>\n",
       "<style scoped>\n",
       "    .dataframe tbody tr th:only-of-type {\n",
       "        vertical-align: middle;\n",
       "    }\n",
       "\n",
       "    .dataframe tbody tr th {\n",
       "        vertical-align: top;\n",
       "    }\n",
       "\n",
       "    .dataframe thead th {\n",
       "        text-align: right;\n",
       "    }\n",
       "</style>\n",
       "<table border=\"1\" class=\"dataframe\">\n",
       "  <thead>\n",
       "    <tr style=\"text-align: right;\">\n",
       "      <th></th>\n",
       "      <th>Number of visits per day</th>\n",
       "    </tr>\n",
       "    <tr>\n",
       "      <th>date of visit</th>\n",
       "      <th></th>\n",
       "    </tr>\n",
       "  </thead>\n",
       "  <tbody>\n",
       "    <tr>\n",
       "      <th>2021-05-01</th>\n",
       "      <td>13</td>\n",
       "    </tr>\n",
       "    <tr>\n",
       "      <th>2021-05-02</th>\n",
       "      <td>10</td>\n",
       "    </tr>\n",
       "    <tr>\n",
       "      <th>2021-05-03</th>\n",
       "      <td>28</td>\n",
       "    </tr>\n",
       "    <tr>\n",
       "      <th>2021-05-04</th>\n",
       "      <td>13</td>\n",
       "    </tr>\n",
       "    <tr>\n",
       "      <th>2021-05-05</th>\n",
       "      <td>31</td>\n",
       "    </tr>\n",
       "    <tr>\n",
       "      <th>2021-05-06</th>\n",
       "      <td>22</td>\n",
       "    </tr>\n",
       "    <tr>\n",
       "      <th>2021-05-07</th>\n",
       "      <td>25</td>\n",
       "    </tr>\n",
       "    <tr>\n",
       "      <th>2021-05-08</th>\n",
       "      <td>10</td>\n",
       "    </tr>\n",
       "    <tr>\n",
       "      <th>2021-05-09</th>\n",
       "      <td>8</td>\n",
       "    </tr>\n",
       "    <tr>\n",
       "      <th>2021-05-10</th>\n",
       "      <td>19</td>\n",
       "    </tr>\n",
       "  </tbody>\n",
       "</table>\n",
       "</div>"
      ]
     },
     "metadata": {},
     "execution_count": 10
    }
   ],
   "metadata": {}
  },
  {
   "cell_type": "markdown",
   "source": [
    "## Number of patients attended to per doctor per month showing their names"
   ],
   "metadata": {}
  },
  {
   "cell_type": "code",
   "execution_count": 16,
   "source": [
    "# method 1\r\n",
    "df1 = single_df.groupby(['doctor_id','month', 'name']).agg(dict(patient_id='count')).stb.subtotal().rename(columns={'patient_id':'patient count'})\r\n",
    "df1['patient count'] = df1['patient count'].astype(int)\r\n",
    "df1.head(20)"
   ],
   "outputs": [
    {
     "output_type": "execute_result",
     "data": {
      "text/plain": [
       "                                                                             patient count\n",
       "doctor_id                month name                                                       \n",
       "3TB6T8CT/m/sBtYXy8XpTg== July  1vbeI+TzP2v2CHMaWSdVpSrbwzihSJv//7eqjZk2nOs=              1\n",
       "                               5CyNu5QdzU2WJCA+hskS9XZQxHZOA+FhIEpjlT9+jtQ=              1\n",
       "                               9TuSI17gA+HXhKeh4ibaJJwWY6CNXqgICDFsMHUunPk=              1\n",
       "                               GKQINGs2vns7Ocrd9x/FAMAm6jdgzGUNgPFtdjrI8g4=              1\n",
       "                               JBobAv4PTG4yh+FFtt4p20cVxsY3wBA+rmbT5zqD2QE=              1"
      ],
      "text/html": [
       "<div>\n",
       "<style scoped>\n",
       "    .dataframe tbody tr th:only-of-type {\n",
       "        vertical-align: middle;\n",
       "    }\n",
       "\n",
       "    .dataframe tbody tr th {\n",
       "        vertical-align: top;\n",
       "    }\n",
       "\n",
       "    .dataframe thead th {\n",
       "        text-align: right;\n",
       "    }\n",
       "</style>\n",
       "<table border=\"1\" class=\"dataframe\">\n",
       "  <thead>\n",
       "    <tr style=\"text-align: right;\">\n",
       "      <th></th>\n",
       "      <th></th>\n",
       "      <th></th>\n",
       "      <th>patient count</th>\n",
       "    </tr>\n",
       "    <tr>\n",
       "      <th>doctor_id</th>\n",
       "      <th>month</th>\n",
       "      <th>name</th>\n",
       "      <th></th>\n",
       "    </tr>\n",
       "  </thead>\n",
       "  <tbody>\n",
       "    <tr>\n",
       "      <th rowspan=\"5\" valign=\"top\">3TB6T8CT/m/sBtYXy8XpTg==</th>\n",
       "      <th rowspan=\"5\" valign=\"top\">July</th>\n",
       "      <th>1vbeI+TzP2v2CHMaWSdVpSrbwzihSJv//7eqjZk2nOs=</th>\n",
       "      <td>1</td>\n",
       "    </tr>\n",
       "    <tr>\n",
       "      <th>5CyNu5QdzU2WJCA+hskS9XZQxHZOA+FhIEpjlT9+jtQ=</th>\n",
       "      <td>1</td>\n",
       "    </tr>\n",
       "    <tr>\n",
       "      <th>9TuSI17gA+HXhKeh4ibaJJwWY6CNXqgICDFsMHUunPk=</th>\n",
       "      <td>1</td>\n",
       "    </tr>\n",
       "    <tr>\n",
       "      <th>GKQINGs2vns7Ocrd9x/FAMAm6jdgzGUNgPFtdjrI8g4=</th>\n",
       "      <td>1</td>\n",
       "    </tr>\n",
       "    <tr>\n",
       "      <th>JBobAv4PTG4yh+FFtt4p20cVxsY3wBA+rmbT5zqD2QE=</th>\n",
       "      <td>1</td>\n",
       "    </tr>\n",
       "  </tbody>\n",
       "</table>\n",
       "</div>"
      ]
     },
     "metadata": {},
     "execution_count": 16
    }
   ],
   "metadata": {}
  },
  {
   "cell_type": "markdown",
   "source": [
    "## The ratio of female to male patient visits per month"
   ],
   "metadata": {}
  },
  {
   "cell_type": "code",
   "execution_count": 179,
   "source": [
    "gender_count=single_df.groupby(['month', 'sex'])['sex'].count()\r\n",
    "gender_total=single_df.groupby(['month'])['sex'].count()\r\n",
    "ratio=((gender_count/gender_total)*100).round(2)\r\n",
    "ratio = pd.DataFrame(ratio).rename(columns={'sex':'ratio'})"
   ],
   "outputs": [],
   "metadata": {}
  },
  {
   "cell_type": "code",
   "execution_count": 180,
   "source": [
    "ratio"
   ],
   "outputs": [
    {
     "output_type": "execute_result",
     "data": {
      "text/plain": [
       "              ratio\n",
       "month sex          \n",
       "July  female  57.66\n",
       "      male    42.34\n",
       "June  female  58.75\n",
       "      male    41.25\n",
       "May   female  61.25\n",
       "      male    38.75"
      ],
      "text/html": [
       "<div>\n",
       "<style scoped>\n",
       "    .dataframe tbody tr th:only-of-type {\n",
       "        vertical-align: middle;\n",
       "    }\n",
       "\n",
       "    .dataframe tbody tr th {\n",
       "        vertical-align: top;\n",
       "    }\n",
       "\n",
       "    .dataframe thead th {\n",
       "        text-align: right;\n",
       "    }\n",
       "</style>\n",
       "<table border=\"1\" class=\"dataframe\">\n",
       "  <thead>\n",
       "    <tr style=\"text-align: right;\">\n",
       "      <th></th>\n",
       "      <th></th>\n",
       "      <th>ratio</th>\n",
       "    </tr>\n",
       "    <tr>\n",
       "      <th>month</th>\n",
       "      <th>sex</th>\n",
       "      <th></th>\n",
       "    </tr>\n",
       "  </thead>\n",
       "  <tbody>\n",
       "    <tr>\n",
       "      <th rowspan=\"2\" valign=\"top\">July</th>\n",
       "      <th>female</th>\n",
       "      <td>57.66</td>\n",
       "    </tr>\n",
       "    <tr>\n",
       "      <th>male</th>\n",
       "      <td>42.34</td>\n",
       "    </tr>\n",
       "    <tr>\n",
       "      <th rowspan=\"2\" valign=\"top\">June</th>\n",
       "      <th>female</th>\n",
       "      <td>58.75</td>\n",
       "    </tr>\n",
       "    <tr>\n",
       "      <th>male</th>\n",
       "      <td>41.25</td>\n",
       "    </tr>\n",
       "    <tr>\n",
       "      <th rowspan=\"2\" valign=\"top\">May</th>\n",
       "      <th>female</th>\n",
       "      <td>61.25</td>\n",
       "    </tr>\n",
       "    <tr>\n",
       "      <th>male</th>\n",
       "      <td>38.75</td>\n",
       "    </tr>\n",
       "  </tbody>\n",
       "</table>\n",
       "</div>"
      ]
     },
     "metadata": {},
     "execution_count": 180
    }
   ],
   "metadata": {}
  },
  {
   "cell_type": "code",
   "execution_count": null,
   "source": [],
   "outputs": [],
   "metadata": {}
  }
 ],
 "metadata": {
  "orig_nbformat": 4,
  "language_info": {
   "name": "python",
   "version": "3.8.5",
   "mimetype": "text/x-python",
   "codemirror_mode": {
    "name": "ipython",
    "version": 3
   },
   "pygments_lexer": "ipython3",
   "nbconvert_exporter": "python",
   "file_extension": ".py"
  },
  "kernelspec": {
   "name": "python3",
   "display_name": "Python 3.8.5 64-bit ('base': conda)"
  },
  "interpreter": {
   "hash": "b3ba2566441a7c06988d0923437866b63cedc61552a5af99d1f4fb67d367b25f"
  }
 },
 "nbformat": 4,
 "nbformat_minor": 2
}